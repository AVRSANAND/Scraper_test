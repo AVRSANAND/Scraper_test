{
 "cells": [
  {
   "cell_type": "markdown",
   "id": "64dbf5e2-b6e3-4fc2-8ebe-974384745e78",
   "metadata": {},
   "source": [
    "# Creating Usable Proxy"
   ]
  },
  {
   "cell_type": "code",
   "execution_count": 1,
   "id": "120504cf-9b69-439c-8c11-bb7e872ce367",
   "metadata": {},
   "outputs": [],
   "source": [
    "import requests"
   ]
  },
  {
   "cell_type": "code",
   "execution_count": 2,
   "id": "2cfca6d3-45b7-4a53-b7bd-cc8a2fc1a940",
   "metadata": {},
   "outputs": [],
   "source": [
    "def jinaai_readerapi(url):\n",
    "    response = requests.get(\"https://r.jina.ai/\" + url)\n",
    "    return response.text"
   ]
  },
  {
   "cell_type": "code",
   "execution_count": 3,
   "id": "1b6f85cb-e5cc-4d0a-b59d-a76a9bf8f69c",
   "metadata": {},
   "outputs": [],
   "source": [
    "url_proxies = \"https://api.proxyscrape.com/v3/free-proxy-list/get?request=displayproxies&proxy_format=protocolipport&format=text\"\n"
   ]
  },
  {
   "cell_type": "code",
   "execution_count": 4,
   "id": "d0f8f536-9561-46db-86d5-bb5af54e939f",
   "metadata": {},
   "outputs": [],
   "source": [
    "data = jinaai_readerapi(url_proxies)\n",
    "\n",
    "# Split the data by newlines to get each proxy\n",
    "proxies = data.splitlines()\n",
    "\n",
    "# Filter only HTTP proxies and limit the list to the first 20\n",
    "http_proxies = [proxy for proxy in proxies if proxy.startswith(\"http://\")][:20]"
   ]
  },
  {
   "cell_type": "code",
   "execution_count": 5,
   "id": "0fbbfc0c-bfce-4bb4-b35c-cd343280c1e8",
   "metadata": {},
   "outputs": [
    {
     "data": {
      "text/plain": [
       "['http://152.26.231.86:9443',\n",
       " 'http://72.10.164.178:28759',\n",
       " 'http://114.240.227.169:8989',\n",
       " 'http://223.113.80.158:9091',\n",
       " 'http://45.92.177.60:8080',\n",
       " 'http://66.29.154.105:3128',\n",
       " 'http://185.105.90.88:4444',\n",
       " 'http://162.245.239.110:6274',\n",
       " 'http://72.10.164.178:17889',\n",
       " 'http://72.10.160.171:6737',\n",
       " 'http://8.218.202.190:1080',\n",
       " 'http://129.213.165.166:80',\n",
       " 'http://139.162.78.109:8080',\n",
       " 'http://72.10.164.178:30785',\n",
       " 'http://51.89.255.67:80',\n",
       " 'http://51.75.33.162:80',\n",
       " 'http://67.43.228.253:13149',\n",
       " 'http://203.19.38.114:1080',\n",
       " 'http://43.255.113.232:82',\n",
       " 'http://159.203.61.169:3128']"
      ]
     },
     "execution_count": 5,
     "metadata": {},
     "output_type": "execute_result"
    }
   ],
   "source": [
    "http_proxies"
   ]
  },
  {
   "cell_type": "markdown",
   "id": "3d37d004-aa9e-45fe-847c-cdd413b82ffc",
   "metadata": {},
   "source": [
    "### Checking if we can use these proxies or not"
   ]
  },
  {
   "cell_type": "code",
   "execution_count": 6,
   "id": "6cd06524-38d2-4d5e-9862-5793cdf0fbab",
   "metadata": {},
   "outputs": [],
   "source": [
    "def get(url, proxy):\n",
    "    for proxy in http_proxies:\n",
    "        try:\n",
    "            r = requests.get(url, proxy)\n",
    "            if r.status_code < 400:\n",
    "                return r\n",
    "            else:\n",
    "                print(r.status_code)\n",
    "        except Exception as e:\n",
    "            print(e)\n",
    "    return None\n",
    "\n",
    "def check_proxy(proxy):\n",
    "    return get(\"http://httpbin.org/ip\", proxy) is not None\n"
   ]
  },
  {
   "cell_type": "code",
   "execution_count": 7,
   "id": "b6d010c7-13b2-4789-b1ef-7f466ee7c2f0",
   "metadata": {},
   "outputs": [],
   "source": [
    "available_proxies = list(filter(check_proxy, http_proxies))"
   ]
  },
  {
   "cell_type": "code",
   "execution_count": 8,
   "id": "92f608f0-d7ab-48ee-86b9-7adeda24099b",
   "metadata": {},
   "outputs": [
    {
     "data": {
      "text/plain": [
       "['http://152.26.231.86:9443',\n",
       " 'http://72.10.164.178:28759',\n",
       " 'http://114.240.227.169:8989',\n",
       " 'http://223.113.80.158:9091',\n",
       " 'http://45.92.177.60:8080',\n",
       " 'http://66.29.154.105:3128',\n",
       " 'http://185.105.90.88:4444',\n",
       " 'http://162.245.239.110:6274',\n",
       " 'http://72.10.164.178:17889',\n",
       " 'http://72.10.160.171:6737',\n",
       " 'http://8.218.202.190:1080',\n",
       " 'http://129.213.165.166:80',\n",
       " 'http://139.162.78.109:8080',\n",
       " 'http://72.10.164.178:30785',\n",
       " 'http://51.89.255.67:80',\n",
       " 'http://51.75.33.162:80',\n",
       " 'http://67.43.228.253:13149',\n",
       " 'http://203.19.38.114:1080',\n",
       " 'http://43.255.113.232:82',\n",
       " 'http://159.203.61.169:3128']"
      ]
     },
     "execution_count": 8,
     "metadata": {},
     "output_type": "execute_result"
    }
   ],
   "source": [
    "available_proxies"
   ]
  },
  {
   "cell_type": "markdown",
   "id": "d5f2a583-08cc-4c03-af23-1cc3a9cb9c8a",
   "metadata": {},
   "source": []
  },
  {
   "cell_type": "markdown",
   "id": "9dd19190-b14e-4fe8-9604-806e1c30bf6d",
   "metadata": {},
   "source": [
    "# Checking the Working of Upstock API"
   ]
  },
  {
   "cell_type": "code",
   "execution_count": 12,
   "id": "da8dd513-0ffd-448a-89a4-adb8788eff0c",
   "metadata": {},
   "outputs": [
    {
     "name": "stdout",
     "output_type": "stream",
     "text": [
      "{\"status\":\"error\",\"errors\":[]}\n"
     ]
    }
   ],
   "source": []
  },
  {
   "cell_type": "code",
   "execution_count": null,
   "id": "c920d349-b47e-4ec7-a5c3-d580909859c8",
   "metadata": {},
   "outputs": [],
   "source": []
  }
 ],
 "metadata": {
  "kernelspec": {
   "display_name": "Python 3 (ipykernel)",
   "language": "python",
   "name": "python3"
  },
  "language_info": {
   "codemirror_mode": {
    "name": "ipython",
    "version": 3
   },
   "file_extension": ".py",
   "mimetype": "text/x-python",
   "name": "python",
   "nbconvert_exporter": "python",
   "pygments_lexer": "ipython3",
   "version": "3.12.0"
  }
 },
 "nbformat": 4,
 "nbformat_minor": 5
}
